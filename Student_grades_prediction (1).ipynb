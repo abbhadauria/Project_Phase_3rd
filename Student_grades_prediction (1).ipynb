{
  "nbformat": 4,
  "nbformat_minor": 0,
  "metadata": {
    "colab": {
      "provenance": []
    },
    "kernelspec": {
      "name": "python3",
      "display_name": "Python 3"
    },
    "language_info": {
      "name": "python"
    }
  },
  "cells": [
    {
      "cell_type": "code",
      "execution_count": null,
      "metadata": {
        "id": "tCfV5LpLwjXT"
      },
      "outputs": [],
      "source": [
        "import pandas as pd\n",
        "import numpy as np\n",
        "import matplotlib.pyplot as plt\n",
        "%matplotlib inline\n",
        "import seaborn as sns\n",
        "from sklearn.preprocessing import OneHotEncoder, StandardScaler\n",
        "from sklearn.model_selection import GridSearchCV\n",
        "from lightgbm import LGBMRegressor\n",
        "from sklearn.pipeline import Pipeline\n",
        "from sklearn.compose import ColumnTransformer\n",
        "import joblib"
      ]
    },
    {
      "cell_type": "code",
      "source": [
        "data=pd.read_csv('https://raw.githubusercontent.com/dsrscientist/dataset4/main/Grades.csv')"
      ],
      "metadata": {
        "id": "t--0ltxOkPrF"
      },
      "execution_count": null,
      "outputs": []
    },
    {
      "cell_type": "code",
      "source": [
        "data.head()"
      ],
      "metadata": {
        "colab": {
          "base_uri": "https://localhost:8080/",
          "height": 384
        },
        "id": "rMQvpANllX0n",
        "outputId": "7347ed3b-10bf-47a8-9910-65c1b5773dcc"
      },
      "execution_count": null,
      "outputs": [
        {
          "output_type": "execute_result",
          "data": {
            "text/plain": [
              "   Seat No. PH-121 HS-101 CY-105 HS-105/12 MT-111 CS-105 CS-106 EL-102 EE-119  \\\n",
              "0  CS-97001     B-     D+     C-         C     C-     D+      D     C-     B-   \n",
              "1  CS-97002      A      D     D+         D     B-      C      D      A     D+   \n",
              "2  CS-97003      A      B      A        B-     B+      A     B-     B+     A-   \n",
              "3  CS-97004      D     C+     D+         D      D     A-     D+     C-      D   \n",
              "4  CS-97005     A-     A-     A-        B+      A      A     A-     B+      A   \n",
              "\n",
              "   ... CS-312 CS-317 CS-403 CS-421 CS-406 CS-414 CS-419 CS-423 CS-412   CGPA  \n",
              "0  ...     C-     C-     C-     C-     A-      A     C-      B     A-  2.205  \n",
              "1  ...     D+      D      C      D     A-     B-      C      C      B  2.008  \n",
              "2  ...      B      B      A      C      A      A      A     A-      A  3.608  \n",
              "3  ...     D+      C     D+     C-     B-      B     C+     C+     C+  1.906  \n",
              "4  ...     B-     B+     B+     B-     A-      A     A-     A-      A  3.448  \n",
              "\n",
              "[5 rows x 43 columns]"
            ],
            "text/html": [
              "\n",
              "  <div id=\"df-7c4e5cd4-e4cb-41f0-bdc1-5c526e04b363\">\n",
              "    <div class=\"colab-df-container\">\n",
              "      <div>\n",
              "<style scoped>\n",
              "    .dataframe tbody tr th:only-of-type {\n",
              "        vertical-align: middle;\n",
              "    }\n",
              "\n",
              "    .dataframe tbody tr th {\n",
              "        vertical-align: top;\n",
              "    }\n",
              "\n",
              "    .dataframe thead th {\n",
              "        text-align: right;\n",
              "    }\n",
              "</style>\n",
              "<table border=\"1\" class=\"dataframe\">\n",
              "  <thead>\n",
              "    <tr style=\"text-align: right;\">\n",
              "      <th></th>\n",
              "      <th>Seat No.</th>\n",
              "      <th>PH-121</th>\n",
              "      <th>HS-101</th>\n",
              "      <th>CY-105</th>\n",
              "      <th>HS-105/12</th>\n",
              "      <th>MT-111</th>\n",
              "      <th>CS-105</th>\n",
              "      <th>CS-106</th>\n",
              "      <th>EL-102</th>\n",
              "      <th>EE-119</th>\n",
              "      <th>...</th>\n",
              "      <th>CS-312</th>\n",
              "      <th>CS-317</th>\n",
              "      <th>CS-403</th>\n",
              "      <th>CS-421</th>\n",
              "      <th>CS-406</th>\n",
              "      <th>CS-414</th>\n",
              "      <th>CS-419</th>\n",
              "      <th>CS-423</th>\n",
              "      <th>CS-412</th>\n",
              "      <th>CGPA</th>\n",
              "    </tr>\n",
              "  </thead>\n",
              "  <tbody>\n",
              "    <tr>\n",
              "      <th>0</th>\n",
              "      <td>CS-97001</td>\n",
              "      <td>B-</td>\n",
              "      <td>D+</td>\n",
              "      <td>C-</td>\n",
              "      <td>C</td>\n",
              "      <td>C-</td>\n",
              "      <td>D+</td>\n",
              "      <td>D</td>\n",
              "      <td>C-</td>\n",
              "      <td>B-</td>\n",
              "      <td>...</td>\n",
              "      <td>C-</td>\n",
              "      <td>C-</td>\n",
              "      <td>C-</td>\n",
              "      <td>C-</td>\n",
              "      <td>A-</td>\n",
              "      <td>A</td>\n",
              "      <td>C-</td>\n",
              "      <td>B</td>\n",
              "      <td>A-</td>\n",
              "      <td>2.205</td>\n",
              "    </tr>\n",
              "    <tr>\n",
              "      <th>1</th>\n",
              "      <td>CS-97002</td>\n",
              "      <td>A</td>\n",
              "      <td>D</td>\n",
              "      <td>D+</td>\n",
              "      <td>D</td>\n",
              "      <td>B-</td>\n",
              "      <td>C</td>\n",
              "      <td>D</td>\n",
              "      <td>A</td>\n",
              "      <td>D+</td>\n",
              "      <td>...</td>\n",
              "      <td>D+</td>\n",
              "      <td>D</td>\n",
              "      <td>C</td>\n",
              "      <td>D</td>\n",
              "      <td>A-</td>\n",
              "      <td>B-</td>\n",
              "      <td>C</td>\n",
              "      <td>C</td>\n",
              "      <td>B</td>\n",
              "      <td>2.008</td>\n",
              "    </tr>\n",
              "    <tr>\n",
              "      <th>2</th>\n",
              "      <td>CS-97003</td>\n",
              "      <td>A</td>\n",
              "      <td>B</td>\n",
              "      <td>A</td>\n",
              "      <td>B-</td>\n",
              "      <td>B+</td>\n",
              "      <td>A</td>\n",
              "      <td>B-</td>\n",
              "      <td>B+</td>\n",
              "      <td>A-</td>\n",
              "      <td>...</td>\n",
              "      <td>B</td>\n",
              "      <td>B</td>\n",
              "      <td>A</td>\n",
              "      <td>C</td>\n",
              "      <td>A</td>\n",
              "      <td>A</td>\n",
              "      <td>A</td>\n",
              "      <td>A-</td>\n",
              "      <td>A</td>\n",
              "      <td>3.608</td>\n",
              "    </tr>\n",
              "    <tr>\n",
              "      <th>3</th>\n",
              "      <td>CS-97004</td>\n",
              "      <td>D</td>\n",
              "      <td>C+</td>\n",
              "      <td>D+</td>\n",
              "      <td>D</td>\n",
              "      <td>D</td>\n",
              "      <td>A-</td>\n",
              "      <td>D+</td>\n",
              "      <td>C-</td>\n",
              "      <td>D</td>\n",
              "      <td>...</td>\n",
              "      <td>D+</td>\n",
              "      <td>C</td>\n",
              "      <td>D+</td>\n",
              "      <td>C-</td>\n",
              "      <td>B-</td>\n",
              "      <td>B</td>\n",
              "      <td>C+</td>\n",
              "      <td>C+</td>\n",
              "      <td>C+</td>\n",
              "      <td>1.906</td>\n",
              "    </tr>\n",
              "    <tr>\n",
              "      <th>4</th>\n",
              "      <td>CS-97005</td>\n",
              "      <td>A-</td>\n",
              "      <td>A-</td>\n",
              "      <td>A-</td>\n",
              "      <td>B+</td>\n",
              "      <td>A</td>\n",
              "      <td>A</td>\n",
              "      <td>A-</td>\n",
              "      <td>B+</td>\n",
              "      <td>A</td>\n",
              "      <td>...</td>\n",
              "      <td>B-</td>\n",
              "      <td>B+</td>\n",
              "      <td>B+</td>\n",
              "      <td>B-</td>\n",
              "      <td>A-</td>\n",
              "      <td>A</td>\n",
              "      <td>A-</td>\n",
              "      <td>A-</td>\n",
              "      <td>A</td>\n",
              "      <td>3.448</td>\n",
              "    </tr>\n",
              "  </tbody>\n",
              "</table>\n",
              "<p>5 rows × 43 columns</p>\n",
              "</div>\n",
              "      <button class=\"colab-df-convert\" onclick=\"convertToInteractive('df-7c4e5cd4-e4cb-41f0-bdc1-5c526e04b363')\"\n",
              "              title=\"Convert this dataframe to an interactive table.\"\n",
              "              style=\"display:none;\">\n",
              "        \n",
              "  <svg xmlns=\"http://www.w3.org/2000/svg\" height=\"24px\"viewBox=\"0 0 24 24\"\n",
              "       width=\"24px\">\n",
              "    <path d=\"M0 0h24v24H0V0z\" fill=\"none\"/>\n",
              "    <path d=\"M18.56 5.44l.94 2.06.94-2.06 2.06-.94-2.06-.94-.94-2.06-.94 2.06-2.06.94zm-11 1L8.5 8.5l.94-2.06 2.06-.94-2.06-.94L8.5 2.5l-.94 2.06-2.06.94zm10 10l.94 2.06.94-2.06 2.06-.94-2.06-.94-.94-2.06-.94 2.06-2.06.94z\"/><path d=\"M17.41 7.96l-1.37-1.37c-.4-.4-.92-.59-1.43-.59-.52 0-1.04.2-1.43.59L10.3 9.45l-7.72 7.72c-.78.78-.78 2.05 0 2.83L4 21.41c.39.39.9.59 1.41.59.51 0 1.02-.2 1.41-.59l7.78-7.78 2.81-2.81c.8-.78.8-2.07 0-2.86zM5.41 20L4 18.59l7.72-7.72 1.47 1.35L5.41 20z\"/>\n",
              "  </svg>\n",
              "      </button>\n",
              "      \n",
              "  <style>\n",
              "    .colab-df-container {\n",
              "      display:flex;\n",
              "      flex-wrap:wrap;\n",
              "      gap: 12px;\n",
              "    }\n",
              "\n",
              "    .colab-df-convert {\n",
              "      background-color: #E8F0FE;\n",
              "      border: none;\n",
              "      border-radius: 50%;\n",
              "      cursor: pointer;\n",
              "      display: none;\n",
              "      fill: #1967D2;\n",
              "      height: 32px;\n",
              "      padding: 0 0 0 0;\n",
              "      width: 32px;\n",
              "    }\n",
              "\n",
              "    .colab-df-convert:hover {\n",
              "      background-color: #E2EBFA;\n",
              "      box-shadow: 0px 1px 2px rgba(60, 64, 67, 0.3), 0px 1px 3px 1px rgba(60, 64, 67, 0.15);\n",
              "      fill: #174EA6;\n",
              "    }\n",
              "\n",
              "    [theme=dark] .colab-df-convert {\n",
              "      background-color: #3B4455;\n",
              "      fill: #D2E3FC;\n",
              "    }\n",
              "\n",
              "    [theme=dark] .colab-df-convert:hover {\n",
              "      background-color: #434B5C;\n",
              "      box-shadow: 0px 1px 3px 1px rgba(0, 0, 0, 0.15);\n",
              "      filter: drop-shadow(0px 1px 2px rgba(0, 0, 0, 0.3));\n",
              "      fill: #FFFFFF;\n",
              "    }\n",
              "  </style>\n",
              "\n",
              "      <script>\n",
              "        const buttonEl =\n",
              "          document.querySelector('#df-7c4e5cd4-e4cb-41f0-bdc1-5c526e04b363 button.colab-df-convert');\n",
              "        buttonEl.style.display =\n",
              "          google.colab.kernel.accessAllowed ? 'block' : 'none';\n",
              "\n",
              "        async function convertToInteractive(key) {\n",
              "          const element = document.querySelector('#df-7c4e5cd4-e4cb-41f0-bdc1-5c526e04b363');\n",
              "          const dataTable =\n",
              "            await google.colab.kernel.invokeFunction('convertToInteractive',\n",
              "                                                     [key], {});\n",
              "          if (!dataTable) return;\n",
              "\n",
              "          const docLinkHtml = 'Like what you see? Visit the ' +\n",
              "            '<a target=\"_blank\" href=https://colab.research.google.com/notebooks/data_table.ipynb>data table notebook</a>'\n",
              "            + ' to learn more about interactive tables.';\n",
              "          element.innerHTML = '';\n",
              "          dataTable['output_type'] = 'display_data';\n",
              "          await google.colab.output.renderOutput(dataTable, element);\n",
              "          const docLink = document.createElement('div');\n",
              "          docLink.innerHTML = docLinkHtml;\n",
              "          element.appendChild(docLink);\n",
              "        }\n",
              "      </script>\n",
              "    </div>\n",
              "  </div>\n",
              "  "
            ]
          },
          "metadata": {},
          "execution_count": 3
        }
      ]
    },
    {
      "cell_type": "code",
      "source": [
        "data.shape"
      ],
      "metadata": {
        "colab": {
          "base_uri": "https://localhost:8080/"
        },
        "id": "ApdxSoIurwqj",
        "outputId": "1700368a-6a1e-45da-99fd-ca76af85dc18"
      },
      "execution_count": null,
      "outputs": [
        {
          "output_type": "execute_result",
          "data": {
            "text/plain": [
              "(571, 43)"
            ]
          },
          "metadata": {},
          "execution_count": 4
        }
      ]
    },
    {
      "cell_type": "code",
      "source": [
        "data.isna().sum()"
      ],
      "metadata": {
        "colab": {
          "base_uri": "https://localhost:8080/"
        },
        "id": "Zp2M394zr-pb",
        "outputId": "0b65ff51-4efd-48a6-91f1-428032319888"
      },
      "execution_count": null,
      "outputs": [
        {
          "output_type": "execute_result",
          "data": {
            "text/plain": [
              "Seat No.      0\n",
              "PH-121        0\n",
              "HS-101        0\n",
              "CY-105        1\n",
              "HS-105/12     1\n",
              "MT-111        2\n",
              "CS-105        0\n",
              "CS-106        2\n",
              "EL-102        2\n",
              "EE-119        2\n",
              "ME-107        2\n",
              "CS-107        2\n",
              "HS-205/20     5\n",
              "MT-222        5\n",
              "EE-222        7\n",
              "MT-224        7\n",
              "CS-210        7\n",
              "CS-211        5\n",
              "CS-203        5\n",
              "CS-214        6\n",
              "EE-217        6\n",
              "CS-212        6\n",
              "CS-215        6\n",
              "MT-331        9\n",
              "EF-303       10\n",
              "HS-304       10\n",
              "CS-301       10\n",
              "CS-302       10\n",
              "TC-383       10\n",
              "MT-442       10\n",
              "EL-332        9\n",
              "CS-318        9\n",
              "CS-306        9\n",
              "CS-312       10\n",
              "CS-317       12\n",
              "CS-403       12\n",
              "CS-421       12\n",
              "CS-406       85\n",
              "CS-414       13\n",
              "CS-419       13\n",
              "CS-423       14\n",
              "CS-412       79\n",
              "CGPA          0\n",
              "dtype: int64"
            ]
          },
          "metadata": {},
          "execution_count": 5
        }
      ]
    },
    {
      "cell_type": "code",
      "source": [
        "scores = data.columns[data.columns.str.contains('score')].tolist()\n",
        "scores"
      ],
      "metadata": {
        "colab": {
          "base_uri": "https://localhost:8080/"
        },
        "id": "-SuYtPEVsKC0",
        "outputId": "1ac6610a-3a5a-485b-cf99-56c8449eefbd"
      },
      "execution_count": null,
      "outputs": [
        {
          "output_type": "execute_result",
          "data": {
            "text/plain": [
              "[]"
            ]
          },
          "metadata": {},
          "execution_count": 6
        }
      ]
    },
    {
      "cell_type": "code",
      "source": [
        "for score in scores:\n",
        "    sns.histplot(data[score], element='bars', kde=True)\n",
        "    plt.text(x=20, y=90, s=f\"Skew: {round(data[score].skew(),2)}\\nKurtosis: {round(data[score].kurt(),2)}\")\n",
        "    plt.show()\n"
      ],
      "metadata": {
        "id": "S7Iz_4KQsrTK"
      },
      "execution_count": null,
      "outputs": []
    },
    {
      "cell_type": "code",
      "source": [
        "data.describe()"
      ],
      "metadata": {
        "colab": {
          "base_uri": "https://localhost:8080/",
          "height": 300
        },
        "id": "Ts7xiFM0tIwG",
        "outputId": "97b6c7b0-b56b-4cb3-b1fb-631fe9ce5347"
      },
      "execution_count": null,
      "outputs": [
        {
          "output_type": "execute_result",
          "data": {
            "text/plain": [
              "             CGPA\n",
              "count  571.000000\n",
              "mean     2.954888\n",
              "std      0.620552\n",
              "min      0.800000\n",
              "25%      2.538000\n",
              "50%      3.029000\n",
              "75%      3.451000\n",
              "max      3.985000"
            ],
            "text/html": [
              "\n",
              "  <div id=\"df-b3f13050-9b2b-48d3-8c92-8ccc4eb5d312\">\n",
              "    <div class=\"colab-df-container\">\n",
              "      <div>\n",
              "<style scoped>\n",
              "    .dataframe tbody tr th:only-of-type {\n",
              "        vertical-align: middle;\n",
              "    }\n",
              "\n",
              "    .dataframe tbody tr th {\n",
              "        vertical-align: top;\n",
              "    }\n",
              "\n",
              "    .dataframe thead th {\n",
              "        text-align: right;\n",
              "    }\n",
              "</style>\n",
              "<table border=\"1\" class=\"dataframe\">\n",
              "  <thead>\n",
              "    <tr style=\"text-align: right;\">\n",
              "      <th></th>\n",
              "      <th>CGPA</th>\n",
              "    </tr>\n",
              "  </thead>\n",
              "  <tbody>\n",
              "    <tr>\n",
              "      <th>count</th>\n",
              "      <td>571.000000</td>\n",
              "    </tr>\n",
              "    <tr>\n",
              "      <th>mean</th>\n",
              "      <td>2.954888</td>\n",
              "    </tr>\n",
              "    <tr>\n",
              "      <th>std</th>\n",
              "      <td>0.620552</td>\n",
              "    </tr>\n",
              "    <tr>\n",
              "      <th>min</th>\n",
              "      <td>0.800000</td>\n",
              "    </tr>\n",
              "    <tr>\n",
              "      <th>25%</th>\n",
              "      <td>2.538000</td>\n",
              "    </tr>\n",
              "    <tr>\n",
              "      <th>50%</th>\n",
              "      <td>3.029000</td>\n",
              "    </tr>\n",
              "    <tr>\n",
              "      <th>75%</th>\n",
              "      <td>3.451000</td>\n",
              "    </tr>\n",
              "    <tr>\n",
              "      <th>max</th>\n",
              "      <td>3.985000</td>\n",
              "    </tr>\n",
              "  </tbody>\n",
              "</table>\n",
              "</div>\n",
              "      <button class=\"colab-df-convert\" onclick=\"convertToInteractive('df-b3f13050-9b2b-48d3-8c92-8ccc4eb5d312')\"\n",
              "              title=\"Convert this dataframe to an interactive table.\"\n",
              "              style=\"display:none;\">\n",
              "        \n",
              "  <svg xmlns=\"http://www.w3.org/2000/svg\" height=\"24px\"viewBox=\"0 0 24 24\"\n",
              "       width=\"24px\">\n",
              "    <path d=\"M0 0h24v24H0V0z\" fill=\"none\"/>\n",
              "    <path d=\"M18.56 5.44l.94 2.06.94-2.06 2.06-.94-2.06-.94-.94-2.06-.94 2.06-2.06.94zm-11 1L8.5 8.5l.94-2.06 2.06-.94-2.06-.94L8.5 2.5l-.94 2.06-2.06.94zm10 10l.94 2.06.94-2.06 2.06-.94-2.06-.94-.94-2.06-.94 2.06-2.06.94z\"/><path d=\"M17.41 7.96l-1.37-1.37c-.4-.4-.92-.59-1.43-.59-.52 0-1.04.2-1.43.59L10.3 9.45l-7.72 7.72c-.78.78-.78 2.05 0 2.83L4 21.41c.39.39.9.59 1.41.59.51 0 1.02-.2 1.41-.59l7.78-7.78 2.81-2.81c.8-.78.8-2.07 0-2.86zM5.41 20L4 18.59l7.72-7.72 1.47 1.35L5.41 20z\"/>\n",
              "  </svg>\n",
              "      </button>\n",
              "      \n",
              "  <style>\n",
              "    .colab-df-container {\n",
              "      display:flex;\n",
              "      flex-wrap:wrap;\n",
              "      gap: 12px;\n",
              "    }\n",
              "\n",
              "    .colab-df-convert {\n",
              "      background-color: #E8F0FE;\n",
              "      border: none;\n",
              "      border-radius: 50%;\n",
              "      cursor: pointer;\n",
              "      display: none;\n",
              "      fill: #1967D2;\n",
              "      height: 32px;\n",
              "      padding: 0 0 0 0;\n",
              "      width: 32px;\n",
              "    }\n",
              "\n",
              "    .colab-df-convert:hover {\n",
              "      background-color: #E2EBFA;\n",
              "      box-shadow: 0px 1px 2px rgba(60, 64, 67, 0.3), 0px 1px 3px 1px rgba(60, 64, 67, 0.15);\n",
              "      fill: #174EA6;\n",
              "    }\n",
              "\n",
              "    [theme=dark] .colab-df-convert {\n",
              "      background-color: #3B4455;\n",
              "      fill: #D2E3FC;\n",
              "    }\n",
              "\n",
              "    [theme=dark] .colab-df-convert:hover {\n",
              "      background-color: #434B5C;\n",
              "      box-shadow: 0px 1px 3px 1px rgba(0, 0, 0, 0.15);\n",
              "      filter: drop-shadow(0px 1px 2px rgba(0, 0, 0, 0.3));\n",
              "      fill: #FFFFFF;\n",
              "    }\n",
              "  </style>\n",
              "\n",
              "      <script>\n",
              "        const buttonEl =\n",
              "          document.querySelector('#df-b3f13050-9b2b-48d3-8c92-8ccc4eb5d312 button.colab-df-convert');\n",
              "        buttonEl.style.display =\n",
              "          google.colab.kernel.accessAllowed ? 'block' : 'none';\n",
              "\n",
              "        async function convertToInteractive(key) {\n",
              "          const element = document.querySelector('#df-b3f13050-9b2b-48d3-8c92-8ccc4eb5d312');\n",
              "          const dataTable =\n",
              "            await google.colab.kernel.invokeFunction('convertToInteractive',\n",
              "                                                     [key], {});\n",
              "          if (!dataTable) return;\n",
              "\n",
              "          const docLinkHtml = 'Like what you see? Visit the ' +\n",
              "            '<a target=\"_blank\" href=https://colab.research.google.com/notebooks/data_table.ipynb>data table notebook</a>'\n",
              "            + ' to learn more about interactive tables.';\n",
              "          element.innerHTML = '';\n",
              "          dataTable['output_type'] = 'display_data';\n",
              "          await google.colab.output.renderOutput(dataTable, element);\n",
              "          const docLink = document.createElement('div');\n",
              "          docLink.innerHTML = docLinkHtml;\n",
              "          element.appendChild(docLink);\n",
              "        }\n",
              "      </script>\n",
              "    </div>\n",
              "  </div>\n",
              "  "
            ]
          },
          "metadata": {},
          "execution_count": 8
        }
      ]
    },
    {
      "cell_type": "markdown",
      "source": [
        "pairplot:\n",
        "\n"
      ],
      "metadata": {
        "id": "7GO4fcputRig"
      }
    },
    {
      "cell_type": "code",
      "source": [
        "sns.pairplot(data=data)\n"
      ],
      "metadata": {
        "colab": {
          "base_uri": "https://localhost:8080/",
          "height": 285
        },
        "id": "evN3vqyAtTop",
        "outputId": "b8f6150b-51f6-41a8-9a14-7b41ff074efb"
      },
      "execution_count": null,
      "outputs": [
        {
          "output_type": "execute_result",
          "data": {
            "text/plain": [
              "<seaborn.axisgrid.PairGrid at 0x7ff8e52076a0>"
            ]
          },
          "metadata": {},
          "execution_count": 9
        },
        {
          "output_type": "display_data",
          "data": {
            "text/plain": [
              "<Figure size 250x250 with 2 Axes>"
            ],
            "image/png": "[encoded data removed]"
          },
          "metadata": {}
        }
      ]
    },
    {
      "cell_type": "markdown",
      "source": [
        "scores vs lunch type:\n",
        "\n"
      ],
      "metadata": {
        "id": "_sPIJvlntcSR"
      }
    },
    {
      "cell_type": "code",
      "source": [
        "for score in scores:\n",
        "    sns.boxplot(y=data[score], x=data['lunch'])\n",
        "    plt.show()"
      ],
      "metadata": {
        "id": "p-tdzxy3tYiq"
      },
      "execution_count": null,
      "outputs": []
    },
    {
      "cell_type": "markdown",
      "source": [
        "scores vs race/ ethnicity group:\n",
        "\n"
      ],
      "metadata": {
        "id": "DdNrJswLtmW5"
      }
    },
    {
      "cell_type": "code",
      "source": [
        "for score in scores:\n",
        "    sns.boxplot(y=data[score], x=data['race/ethnicity'], order=sorted(data['race/ethnicity'].unique()))\n",
        "    plt.show()\n"
      ],
      "metadata": {
        "id": "Uh3U-CMytiFy"
      },
      "execution_count": null,
      "outputs": []
    },
    {
      "cell_type": "code",
      "source": [
        "for score in scores:\n",
        "    sns.boxplot(y=data[score], x=data['gender'])\n",
        "    plt.show()\n"
      ],
      "metadata": {
        "id": "5oPZqj2ctxvb"
      },
      "execution_count": null,
      "outputs": []
    },
    {
      "cell_type": "code",
      "source": [
        "for score in scores:\n",
        "    sns.boxplot(y=data[score], x=data['test preparation course'])\n",
        "    plt.show()"
      ],
      "metadata": {
        "id": "Zy1IIrYQt4aG"
      },
      "execution_count": null,
      "outputs": []
    },
    {
      "cell_type": "code",
      "source": [
        "for score in scores:\n",
        "    plt.figure(figsize=(10,5))\n",
        "    sns.boxplot(y=data[score], x=data['parental level of education'])\n",
        "    plt.xticks(rotation=15)\n",
        "    plt.show()"
      ],
      "metadata": {
        "id": "oP2WW4w7uCac"
      },
      "execution_count": null,
      "outputs": []
    },
    {
      "cell_type": "code",
      "source": [
        "X, y = data.drop('CGPA', axis=1), data['CGPA']\n",
        "\n",
        "cat_cols = X.dtypes[X.dtypes == 'O'].index.tolist()\n",
        "cat_cols\n"
      ],
      "metadata": {
        "colab": {
          "base_uri": "https://localhost:8080/"
        },
        "id": "AshE2zPOuTgp",
        "outputId": "32fbf144-2284-4a8d-f381-f537a7863b5d"
      },
      "execution_count": null,
      "outputs": [
        {
          "output_type": "execute_result",
          "data": {
            "text/plain": [
              "['Seat No.',\n",
              " 'PH-121',\n",
              " 'HS-101',\n",
              " 'CY-105',\n",
              " 'HS-105/12',\n",
              " 'MT-111',\n",
              " 'CS-105',\n",
              " 'CS-106',\n",
              " 'EL-102',\n",
              " 'EE-119',\n",
              " 'ME-107',\n",
              " 'CS-107',\n",
              " 'HS-205/20',\n",
              " 'MT-222',\n",
              " 'EE-222',\n",
              " 'MT-224',\n",
              " 'CS-210',\n",
              " 'CS-211',\n",
              " 'CS-203',\n",
              " 'CS-214',\n",
              " 'EE-217',\n",
              " 'CS-212',\n",
              " 'CS-215',\n",
              " 'MT-331',\n",
              " 'EF-303',\n",
              " 'HS-304',\n",
              " 'CS-301',\n",
              " 'CS-302',\n",
              " 'TC-383',\n",
              " 'MT-442',\n",
              " 'EL-332',\n",
              " 'CS-318',\n",
              " 'CS-306',\n",
              " 'CS-312',\n",
              " 'CS-317',\n",
              " 'CS-403',\n",
              " 'CS-421',\n",
              " 'CS-406',\n",
              " 'CS-414',\n",
              " 'CS-419',\n",
              " 'CS-423',\n",
              " 'CS-412']"
            ]
          },
          "metadata": {},
          "execution_count": 15
        }
      ]
    },
    {
      "cell_type": "code",
      "source": [
        "ct = ColumnTransformer([\n",
        "#     ('num', StandardScaler(), ['reading score', 'math score']),\n",
        "    ('ohe', OneHotEncoder(sparse=False, handle_unknown='ignore'), cat_cols)\n",
        "], remainder='passthrough')"
      ],
      "metadata": {
        "id": "fAQegTDwuvxb"
      },
      "execution_count": null,
      "outputs": []
    },
    {
      "cell_type": "code",
      "source": [
        "ct.fit_transform(X).shape\n"
      ],
      "metadata": {
        "colab": {
          "base_uri": "https://localhost:8080/"
        },
        "id": "Itvoity5vEED",
        "outputId": "15b07e4b-3ce5-474c-d17c-450c5b4d574d"
      },
      "execution_count": null,
      "outputs": [
        {
          "output_type": "stream",
          "name": "stderr",
          "text": [
            "/usr/local/lib/python3.10/dist-packages/sklearn/preprocessing/_encoders.py:868: FutureWarning: `sparse` was renamed to `sparse_output` in version 1.2 and will be removed in 1.4. `sparse_output` is ignored unless you leave `sparse` to its default value.\n",
            "  warnings.warn(\n"
          ]
        },
        {
          "output_type": "execute_result",
          "data": {
            "text/plain": [
              "(571, 1135)"
            ]
          },
          "metadata": {},
          "execution_count": 17
        }
      ]
    },
    {
      "cell_type": "code",
      "source": [
        "pipe = Pipeline([\n",
        "    ('trf', ct),\n",
        "    ('model', LGBMRegressor(random_state=0))\n",
        "])"
      ],
      "metadata": {
        "id": "aof-bOKzvHmm"
      },
      "execution_count": null,
      "outputs": []
    },
    {
      "cell_type": "code",
      "source": [
        "params = {\n",
        "    'model__n_estimators':[100,130,150,170,190],\n",
        "    'model__boosting_type': ['dart', 'gbdt', 'goss']\n",
        "}"
      ],
      "metadata": {
        "id": "s479Uti8vNHF"
      },
      "execution_count": null,
      "outputs": []
    },
    {
      "cell_type": "code",
      "source": [
        "gs = GridSearchCV(pipe, param_grid=params, scoring='neg_root_mean_squared_error', n_jobs=-1)\n"
      ],
      "metadata": {
        "id": "Ljz596yNvRXf"
      },
      "execution_count": null,
      "outputs": []
    },
    {
      "cell_type": "code",
      "source": [
        "gs.fit(X, y)\n"
      ],
      "metadata": {
        "colab": {
          "base_uri": "https://localhost:8080/",
          "height": 275
        },
        "id": "ozutj5_PvUNc",
        "outputId": "a784ba93-f65a-4c22-cf76-1c0d21473d9b"
      },
      "execution_count": null,
      "outputs": [
        {
          "output_type": "stream",
          "name": "stderr",
          "text": [
            "/usr/local/lib/python3.10/dist-packages/sklearn/preprocessing/_encoders.py:868: FutureWarning: `sparse` was renamed to `sparse_output` in version 1.2 and will be removed in 1.4. `sparse_output` is ignored unless you leave `sparse` to its default value.\n",
            "  warnings.warn(\n"
          ]
        },
        {
          "output_type": "execute_result",
          "data": {
            "text/plain": [
              "GridSearchCV(estimator=Pipeline(steps=[('trf',\n",
              "                                        ColumnTransformer(remainder='passthrough',\n",
              "                                                          transformers=[('ohe',\n",
              "                                                                         OneHotEncoder(handle_unknown='ignore',\n",
              "                                                                                       sparse=False),\n",
              "                                                                         ['Seat '\n",
              "                                                                          'No.',\n",
              "                                                                          'PH-121',\n",
              "                                                                          'HS-101',\n",
              "                                                                          'CY-105',\n",
              "                                                                          'HS-105/12',\n",
              "                                                                          'MT-111',\n",
              "                                                                          'CS-105',\n",
              "                                                                          'CS-106',\n",
              "                                                                          'EL-102',\n",
              "                                                                          'EE-119',\n",
              "                                                                          'ME-107',\n",
              "                                                                          'CS-107',\n",
              "                                                                          'HS-205/20',\n",
              "                                                                          'MT-222',\n",
              "                                                                          'EE-222',\n",
              "                                                                          'MT-224',\n",
              "                                                                          'CS-210',\n",
              "                                                                          'CS-211',\n",
              "                                                                          'CS-203',\n",
              "                                                                          'CS-214',\n",
              "                                                                          'EE-217',\n",
              "                                                                          'CS-212',\n",
              "                                                                          'CS-215',\n",
              "                                                                          'MT-331',\n",
              "                                                                          'EF-303',\n",
              "                                                                          'HS-304',\n",
              "                                                                          'CS-301',\n",
              "                                                                          'CS-302',\n",
              "                                                                          'TC-383',\n",
              "                                                                          'MT-442', ...])])),\n",
              "                                       ('model',\n",
              "                                        LGBMRegressor(random_state=0))]),\n",
              "             n_jobs=-1,\n",
              "             param_grid={'model__boosting_type': ['dart', 'gbdt', 'goss'],\n",
              "                         'model__n_estimators': [100, 130, 150, 170, 190]},\n",
              "             scoring='neg_root_mean_squared_error')"
            ],
            "text/html": [
              "<style>#sk-container-id-1 {color: black;background-color: white;}#sk-container-id-1 pre{padding: 0;}#sk-container-id-1 div.sk-toggleable {background-color: white;}#sk-container-id-1 label.sk-toggleable__label {cursor: pointer;display: block;width: 100%;margin-bottom: 0;padding: 0.3em;box-sizing: border-box;text-align: center;}#sk-container-id-1 label.sk-toggleable__label-arrow:before {content: \"▸\";float: left;margin-right: 0.25em;color: #696969;}#sk-container-id-1 label.sk-toggleable__label-arrow:hover:before {color: black;}#sk-container-id-1 div.sk-estimator:hover label.sk-toggleable__label-arrow:before {color: black;}#sk-container-id-1 div.sk-toggleable__content {max-height: 0;max-width: 0;overflow: hidden;text-align: left;background-color: #f0f8ff;}#sk-container-id-1 div.sk-toggleable__content pre {margin: 0.2em;color: black;border-radius: 0.25em;background-color: #f0f8ff;}#sk-container-id-1 input.sk-toggleable__control:checked~div.sk-toggleable__content {max-height: 200px;max-width: 100%;overflow: auto;}#sk-container-id-1 input.sk-toggleable__control:checked~label.sk-toggleable__label-arrow:before {content: \"▾\";}#sk-container-id-1 div.sk-estimator input.sk-toggleable__control:checked~label.sk-toggleable__label {background-color: #d4ebff;}#sk-container-id-1 div.sk-label input.sk-toggleable__control:checked~label.sk-toggleable__label {background-color: #d4ebff;}#sk-container-id-1 input.sk-hidden--visually {border: 0;clip: rect(1px 1px 1px 1px);clip: rect(1px, 1px, 1px, 1px);height: 1px;margin: -1px;overflow: hidden;padding: 0;position: absolute;width: 1px;}#sk-container-id-1 div.sk-estimator {font-family: monospace;background-color: #f0f8ff;border: 1px dotted black;border-radius: 0.25em;box-sizing: border-box;margin-bottom: 0.5em;}#sk-container-id-1 div.sk-estimator:hover {background-color: #d4ebff;}#sk-container-id-1 div.sk-parallel-item::after {content: \"\";width: 100%;border-bottom: 1px solid gray;flex-grow: 1;}#sk-container-id-1 div.sk-label:hover label.sk-toggleable__label {background-color: #d4ebff;}#sk-container-id-1 div.sk-serial::before {content: \"\";position: absolute;border-left: 1px solid gray;box-sizing: border-box;top: 0;bottom: 0;left: 50%;z-index: 0;}#sk-container-id-1 div.sk-serial {display: flex;flex-direction: column;align-items: center;background-color: white;padding-right: 0.2em;padding-left: 0.2em;position: relative;}#sk-container-id-1 div.sk-item {position: relative;z-index: 1;}#sk-container-id-1 div.sk-parallel {display: flex;align-items: stretch;justify-content: center;background-color: white;position: relative;}#sk-container-id-1 div.sk-item::before, #sk-container-id-1 div.sk-parallel-item::before {content: \"\";position: absolute;border-left: 1px solid gray;box-sizing: border-box;top: 0;bottom: 0;left: 50%;z-index: -1;}#sk-container-id-1 div.sk-parallel-item {display: flex;flex-direction: column;z-index: 1;position: relative;background-color: white;}#sk-container-id-1 div.sk-parallel-item:first-child::after {align-self: flex-end;width: 50%;}#sk-container-id-1 div.sk-parallel-item:last-child::after {align-self: flex-start;width: 50%;}#sk-container-id-1 div.sk-parallel-item:only-child::after {width: 0;}#sk-container-id-1 div.sk-dashed-wrapped {border: 1px dashed gray;margin: 0 0.4em 0.5em 0.4em;box-sizing: border-box;padding-bottom: 0.4em;background-color: white;}#sk-container-id-1 div.sk-label label {font-family: monospace;font-weight: bold;display: inline-block;line-height: 1.2em;}#sk-container-id-1 div.sk-label-container {text-align: center;}#sk-container-id-1 div.sk-container {/* jupyter's `normalize.less` sets `[hidden] { display: none; }` but bootstrap.min.css set `[hidden] { display: none !important; }` so we also need the `!important` here to be able to override the default hidden behavior on the sphinx rendered scikit-learn.org. See: https://github.com/scikit-learn/scikit-learn/issues/21755 */display: inline-block !important;position: relative;}#sk-container-id-1 div.sk-text-repr-fallback {display: none;}</style><div id=\"sk-container-id-1\" class=\"sk-top-container\"><div class=\"sk-text-repr-fallback\"><pre>GridSearchCV(estimator=Pipeline(steps=[(&#x27;trf&#x27;,\n",
              "                                        ColumnTransformer(remainder=&#x27;passthrough&#x27;,\n",
              "                                                          transformers=[(&#x27;ohe&#x27;,\n",
              "                                                                         OneHotEncoder(handle_unknown=&#x27;ignore&#x27;,\n",
              "                                                                                       sparse=False),\n",
              "                                                                         [&#x27;Seat &#x27;\n",
              "                                                                          &#x27;No.&#x27;,\n",
              "                                                                          &#x27;PH-121&#x27;,\n",
              "                                                                          &#x27;HS-101&#x27;,\n",
              "                                                                          &#x27;CY-105&#x27;,\n",
              "                                                                          &#x27;HS-105/12&#x27;,\n",
              "                                                                          &#x27;MT-111&#x27;,\n",
              "                                                                          &#x27;CS-105&#x27;,\n",
              "                                                                          &#x27;CS-106&#x27;,\n",
              "                                                                          &#x27;EL-102&#x27;,\n",
              "                                                                          &#x27;EE-119&#x27;,\n",
              "                                                                          &#x27;ME-107&#x27;,\n",
              "                                                                          &#x27;CS-107&#x27;,\n",
              "                                                                          &#x27;HS-205/20&#x27;,\n",
              "                                                                          &#x27;MT-222&#x27;,\n",
              "                                                                          &#x27;EE-222&#x27;,\n",
              "                                                                          &#x27;MT-224&#x27;,\n",
              "                                                                          &#x27;CS-210&#x27;,\n",
              "                                                                          &#x27;CS-211&#x27;,\n",
              "                                                                          &#x27;CS-203&#x27;,\n",
              "                                                                          &#x27;CS-214&#x27;,\n",
              "                                                                          &#x27;EE-217&#x27;,\n",
              "                                                                          &#x27;CS-212&#x27;,\n",
              "                                                                          &#x27;CS-215&#x27;,\n",
              "                                                                          &#x27;MT-331&#x27;,\n",
              "                                                                          &#x27;EF-303&#x27;,\n",
              "                                                                          &#x27;HS-304&#x27;,\n",
              "                                                                          &#x27;CS-301&#x27;,\n",
              "                                                                          &#x27;CS-302&#x27;,\n",
              "                                                                          &#x27;TC-383&#x27;,\n",
              "                                                                          &#x27;MT-442&#x27;, ...])])),\n",
              "                                       (&#x27;model&#x27;,\n",
              "                                        LGBMRegressor(random_state=0))]),\n",
              "             n_jobs=-1,\n",
              "             param_grid={&#x27;model__boosting_type&#x27;: [&#x27;dart&#x27;, &#x27;gbdt&#x27;, &#x27;goss&#x27;],\n",
              "                         &#x27;model__n_estimators&#x27;: [100, 130, 150, 170, 190]},\n",
              "             scoring=&#x27;neg_root_mean_squared_error&#x27;)</pre><b>In a Jupyter environment, please rerun this cell to show the HTML representation or trust the notebook. <br />On GitHub, the HTML representation is unable to render, please try loading this page with nbviewer.org.</b></div><div class=\"sk-container\" hidden><div class=\"sk-item sk-dashed-wrapped\"><div class=\"sk-label-container\"><div class=\"sk-label sk-toggleable\"><input class=\"sk-toggleable__control sk-hidden--visually\" id=\"sk-estimator-id-1\" type=\"checkbox\" ><label for=\"sk-estimator-id-1\" class=\"sk-toggleable__label sk-toggleable__label-arrow\">GridSearchCV</label><div class=\"sk-toggleable__content\"><pre>GridSearchCV(estimator=Pipeline(steps=[(&#x27;trf&#x27;,\n",
              "                                        ColumnTransformer(remainder=&#x27;passthrough&#x27;,\n",
              "                                                          transformers=[(&#x27;ohe&#x27;,\n",
              "                                                                         OneHotEncoder(handle_unknown=&#x27;ignore&#x27;,\n",
              "                                                                                       sparse=False),\n",
              "                                                                         [&#x27;Seat &#x27;\n",
              "                                                                          &#x27;No.&#x27;,\n",
              "                                                                          &#x27;PH-121&#x27;,\n",
              "                                                                          &#x27;HS-101&#x27;,\n",
              "                                                                          &#x27;CY-105&#x27;,\n",
              "                                                                          &#x27;HS-105/12&#x27;,\n",
              "                                                                          &#x27;MT-111&#x27;,\n",
              "                                                                          &#x27;CS-105&#x27;,\n",
              "                                                                          &#x27;CS-106&#x27;,\n",
              "                                                                          &#x27;EL-102&#x27;,\n",
              "                                                                          &#x27;EE-119&#x27;,\n",
              "                                                                          &#x27;ME-107&#x27;,\n",
              "                                                                          &#x27;CS-107&#x27;,\n",
              "                                                                          &#x27;HS-205/20&#x27;,\n",
              "                                                                          &#x27;MT-222&#x27;,\n",
              "                                                                          &#x27;EE-222&#x27;,\n",
              "                                                                          &#x27;MT-224&#x27;,\n",
              "                                                                          &#x27;CS-210&#x27;,\n",
              "                                                                          &#x27;CS-211&#x27;,\n",
              "                                                                          &#x27;CS-203&#x27;,\n",
              "                                                                          &#x27;CS-214&#x27;,\n",
              "                                                                          &#x27;EE-217&#x27;,\n",
              "                                                                          &#x27;CS-212&#x27;,\n",
              "                                                                          &#x27;CS-215&#x27;,\n",
              "                                                                          &#x27;MT-331&#x27;,\n",
              "                                                                          &#x27;EF-303&#x27;,\n",
              "                                                                          &#x27;HS-304&#x27;,\n",
              "                                                                          &#x27;CS-301&#x27;,\n",
              "                                                                          &#x27;CS-302&#x27;,\n",
              "                                                                          &#x27;TC-383&#x27;,\n",
              "                                                                          &#x27;MT-442&#x27;, ...])])),\n",
              "                                       (&#x27;model&#x27;,\n",
              "                                        LGBMRegressor(random_state=0))]),\n",
              "             n_jobs=-1,\n",
              "             param_grid={&#x27;model__boosting_type&#x27;: [&#x27;dart&#x27;, &#x27;gbdt&#x27;, &#x27;goss&#x27;],\n",
              "                         &#x27;model__n_estimators&#x27;: [100, 130, 150, 170, 190]},\n",
              "             scoring=&#x27;neg_root_mean_squared_error&#x27;)</pre></div></div></div><div class=\"sk-parallel\"><div class=\"sk-parallel-item\"><div class=\"sk-item\"><div class=\"sk-label-container\"><div class=\"sk-label sk-toggleable\"><input class=\"sk-toggleable__control sk-hidden--visually\" id=\"sk-estimator-id-2\" type=\"checkbox\" ><label for=\"sk-estimator-id-2\" class=\"sk-toggleable__label sk-toggleable__label-arrow\">estimator: Pipeline</label><div class=\"sk-toggleable__content\"><pre>Pipeline(steps=[(&#x27;trf&#x27;,\n",
              "                 ColumnTransformer(remainder=&#x27;passthrough&#x27;,\n",
              "                                   transformers=[(&#x27;ohe&#x27;,\n",
              "                                                  OneHotEncoder(handle_unknown=&#x27;ignore&#x27;,\n",
              "                                                                sparse=False),\n",
              "                                                  [&#x27;Seat No.&#x27;, &#x27;PH-121&#x27;,\n",
              "                                                   &#x27;HS-101&#x27;, &#x27;CY-105&#x27;,\n",
              "                                                   &#x27;HS-105/12&#x27;, &#x27;MT-111&#x27;,\n",
              "                                                   &#x27;CS-105&#x27;, &#x27;CS-106&#x27;, &#x27;EL-102&#x27;,\n",
              "                                                   &#x27;EE-119&#x27;, &#x27;ME-107&#x27;, &#x27;CS-107&#x27;,\n",
              "                                                   &#x27;HS-205/20&#x27;, &#x27;MT-222&#x27;,\n",
              "                                                   &#x27;EE-222&#x27;, &#x27;MT-224&#x27;, &#x27;CS-210&#x27;,\n",
              "                                                   &#x27;CS-211&#x27;, &#x27;CS-203&#x27;, &#x27;CS-214&#x27;,\n",
              "                                                   &#x27;EE-217&#x27;, &#x27;CS-212&#x27;, &#x27;CS-215&#x27;,\n",
              "                                                   &#x27;MT-331&#x27;, &#x27;EF-303&#x27;, &#x27;HS-304&#x27;,\n",
              "                                                   &#x27;CS-301&#x27;, &#x27;CS-302&#x27;, &#x27;TC-383&#x27;,\n",
              "                                                   &#x27;MT-442&#x27;, ...])])),\n",
              "                (&#x27;model&#x27;, LGBMRegressor(random_state=0))])</pre></div></div></div><div class=\"sk-serial\"><div class=\"sk-item\"><div class=\"sk-serial\"><div class=\"sk-item sk-dashed-wrapped\"><div class=\"sk-label-container\"><div class=\"sk-label sk-toggleable\"><input class=\"sk-toggleable__control sk-hidden--visually\" id=\"sk-estimator-id-3\" type=\"checkbox\" ><label for=\"sk-estimator-id-3\" class=\"sk-toggleable__label sk-toggleable__label-arrow\">trf: ColumnTransformer</label><div class=\"sk-toggleable__content\"><pre>ColumnTransformer(remainder=&#x27;passthrough&#x27;,\n",
              "                  transformers=[(&#x27;ohe&#x27;,\n",
              "                                 OneHotEncoder(handle_unknown=&#x27;ignore&#x27;,\n",
              "                                               sparse=False),\n",
              "                                 [&#x27;Seat No.&#x27;, &#x27;PH-121&#x27;, &#x27;HS-101&#x27;, &#x27;CY-105&#x27;,\n",
              "                                  &#x27;HS-105/12&#x27;, &#x27;MT-111&#x27;, &#x27;CS-105&#x27;, &#x27;CS-106&#x27;,\n",
              "                                  &#x27;EL-102&#x27;, &#x27;EE-119&#x27;, &#x27;ME-107&#x27;, &#x27;CS-107&#x27;,\n",
              "                                  &#x27;HS-205/20&#x27;, &#x27;MT-222&#x27;, &#x27;EE-222&#x27;, &#x27;MT-224&#x27;,\n",
              "                                  &#x27;CS-210&#x27;, &#x27;CS-211&#x27;, &#x27;CS-203&#x27;, &#x27;CS-214&#x27;,\n",
              "                                  &#x27;EE-217&#x27;, &#x27;CS-212&#x27;, &#x27;CS-215&#x27;, &#x27;MT-331&#x27;,\n",
              "                                  &#x27;EF-303&#x27;, &#x27;HS-304&#x27;, &#x27;CS-301&#x27;, &#x27;CS-302&#x27;,\n",
              "                                  &#x27;TC-383&#x27;, &#x27;MT-442&#x27;, ...])])</pre></div></div></div><div class=\"sk-parallel\"><div class=\"sk-parallel-item\"><div class=\"sk-item\"><div class=\"sk-label-container\"><div class=\"sk-label sk-toggleable\"><input class=\"sk-toggleable__control sk-hidden--visually\" id=\"sk-estimator-id-4\" type=\"checkbox\" ><label for=\"sk-estimator-id-4\" class=\"sk-toggleable__label sk-toggleable__label-arrow\">ohe</label><div class=\"sk-toggleable__content\"><pre>[&#x27;Seat No.&#x27;, &#x27;PH-121&#x27;, &#x27;HS-101&#x27;, &#x27;CY-105&#x27;, &#x27;HS-105/12&#x27;, &#x27;MT-111&#x27;, &#x27;CS-105&#x27;, &#x27;CS-106&#x27;, &#x27;EL-102&#x27;, &#x27;EE-119&#x27;, &#x27;ME-107&#x27;, &#x27;CS-107&#x27;, &#x27;HS-205/20&#x27;, &#x27;MT-222&#x27;, &#x27;EE-222&#x27;, &#x27;MT-224&#x27;, &#x27;CS-210&#x27;, &#x27;CS-211&#x27;, &#x27;CS-203&#x27;, &#x27;CS-214&#x27;, &#x27;EE-217&#x27;, &#x27;CS-212&#x27;, &#x27;CS-215&#x27;, &#x27;MT-331&#x27;, &#x27;EF-303&#x27;, &#x27;HS-304&#x27;, &#x27;CS-301&#x27;, &#x27;CS-302&#x27;, &#x27;TC-383&#x27;, &#x27;MT-442&#x27;, &#x27;EL-332&#x27;, &#x27;CS-318&#x27;, &#x27;CS-306&#x27;, &#x27;CS-312&#x27;, &#x27;CS-317&#x27;, &#x27;CS-403&#x27;, &#x27;CS-421&#x27;, &#x27;CS-406&#x27;, &#x27;CS-414&#x27;, &#x27;CS-419&#x27;, &#x27;CS-423&#x27;, &#x27;CS-412&#x27;]</pre></div></div></div><div class=\"sk-serial\"><div class=\"sk-item\"><div class=\"sk-estimator sk-toggleable\"><input class=\"sk-toggleable__control sk-hidden--visually\" id=\"sk-estimator-id-5\" type=\"checkbox\" ><label for=\"sk-estimator-id-5\" class=\"sk-toggleable__label sk-toggleable__label-arrow\">OneHotEncoder</label><div class=\"sk-toggleable__content\"><pre>OneHotEncoder(handle_unknown=&#x27;ignore&#x27;, sparse=False)</pre></div></div></div></div></div></div><div class=\"sk-parallel-item\"><div class=\"sk-item\"><div class=\"sk-label-container\"><div class=\"sk-label sk-toggleable\"><input class=\"sk-toggleable__control sk-hidden--visually\" id=\"sk-estimator-id-6\" type=\"checkbox\" ><label for=\"sk-estimator-id-6\" class=\"sk-toggleable__label sk-toggleable__label-arrow\">remainder</label><div class=\"sk-toggleable__content\"><pre>[]</pre></div></div></div><div class=\"sk-serial\"><div class=\"sk-item\"><div class=\"sk-estimator sk-toggleable\"><input class=\"sk-toggleable__control sk-hidden--visually\" id=\"sk-estimator-id-7\" type=\"checkbox\" ><label for=\"sk-estimator-id-7\" class=\"sk-toggleable__label sk-toggleable__label-arrow\">passthrough</label><div class=\"sk-toggleable__content\"><pre>passthrough</pre></div></div></div></div></div></div></div></div><div class=\"sk-item\"><div class=\"sk-estimator sk-toggleable\"><input class=\"sk-toggleable__control sk-hidden--visually\" id=\"sk-estimator-id-8\" type=\"checkbox\" ><label for=\"sk-estimator-id-8\" class=\"sk-toggleable__label sk-toggleable__label-arrow\">LGBMRegressor</label><div class=\"sk-toggleable__content\"><pre>LGBMRegressor(random_state=0)</pre></div></div></div></div></div></div></div></div></div></div></div></div>"
            ]
          },
          "metadata": {},
          "execution_count": 21
        }
      ]
    },
    {
      "cell_type": "code",
      "source": [
        "\n",
        "pd.DataFrame(gs.cv_results_).sort_values(by='rank_test_score')\n"
      ],
      "metadata": {
        "colab": {
          "base_uri": "https://localhost:8080/",
          "height": 844
        },
        "id": "JjrPuGSCvYkA",
        "outputId": "6a384b6d-6fea-4299-93a9-1fb71233d7aa"
      },
      "execution_count": null,
      "outputs": [
        {
          "output_type": "execute_result",
          "data": {
            "text/plain": [
              "    mean_fit_time  std_fit_time  mean_score_time  std_score_time  \\\n",
              "9        0.280350      0.006879         0.025383        0.001791   \n",
              "8        0.367724      0.077540         0.037537        0.011182   \n",
              "6        0.350175      0.089018         0.046256        0.017719   \n",
              "7        0.353136      0.065802         0.046346        0.007845   \n",
              "5        0.183541      0.012321         0.023545        0.000741   \n",
              "14       0.139290      0.024241         0.023344        0.003507   \n",
              "13       0.145978      0.008631         0.026332        0.002138   \n",
              "12       0.131937      0.003126         0.024153        0.002342   \n",
              "11       0.132309      0.007051         0.025727        0.002192   \n",
              "10       0.117570      0.006967         0.023563        0.001172   \n",
              "4        0.374020      0.019427         0.025149        0.000666   \n",
              "2        0.548520      0.073825         0.048771        0.002283   \n",
              "3        0.593233      0.100279         0.039231        0.012410   \n",
              "1        0.299269      0.064556         0.026468        0.005385   \n",
              "0        0.210989      0.016123         0.026343        0.004340   \n",
              "\n",
              "   param_model__boosting_type param_model__n_estimators  \\\n",
              "9                        gbdt                       190   \n",
              "8                        gbdt                       170   \n",
              "6                        gbdt                       130   \n",
              "7                        gbdt                       150   \n",
              "5                        gbdt                       100   \n",
              "14                       goss                       190   \n",
              "13                       goss                       170   \n",
              "12                       goss                       150   \n",
              "11                       goss                       130   \n",
              "10                       goss                       100   \n",
              "4                        dart                       190   \n",
              "2                        dart                       150   \n",
              "3                        dart                       170   \n",
              "1                        dart                       130   \n",
              "0                        dart                       100   \n",
              "\n",
              "                                               params  split0_test_score  \\\n",
              "9   {'model__boosting_type': 'gbdt', 'model__n_est...          -0.171920   \n",
              "8   {'model__boosting_type': 'gbdt', 'model__n_est...          -0.170684   \n",
              "6   {'model__boosting_type': 'gbdt', 'model__n_est...          -0.170260   \n",
              "7   {'model__boosting_type': 'gbdt', 'model__n_est...          -0.170751   \n",
              "5   {'model__boosting_type': 'gbdt', 'model__n_est...          -0.170673   \n",
              "14  {'model__boosting_type': 'goss', 'model__n_est...          -0.195694   \n",
              "13  {'model__boosting_type': 'goss', 'model__n_est...          -0.196445   \n",
              "12  {'model__boosting_type': 'goss', 'model__n_est...          -0.203048   \n",
              "11  {'model__boosting_type': 'goss', 'model__n_est...          -0.204084   \n",
              "10  {'model__boosting_type': 'goss', 'model__n_est...          -0.214845   \n",
              "4   {'model__boosting_type': 'dart', 'model__n_est...          -0.255576   \n",
              "2   {'model__boosting_type': 'dart', 'model__n_est...          -0.302460   \n",
              "3   {'model__boosting_type': 'dart', 'model__n_est...          -0.335459   \n",
              "1   {'model__boosting_type': 'dart', 'model__n_est...          -0.357542   \n",
              "0   {'model__boosting_type': 'dart', 'model__n_est...          -0.457101   \n",
              "\n",
              "    split1_test_score  split2_test_score  split3_test_score  \\\n",
              "9           -0.202278          -0.188564          -0.177096   \n",
              "8           -0.201039          -0.190082          -0.178124   \n",
              "6           -0.199267          -0.190559          -0.178075   \n",
              "7           -0.200762          -0.190433          -0.177905   \n",
              "5           -0.194058          -0.194204          -0.175892   \n",
              "14          -0.210857          -0.217476          -0.187278   \n",
              "13          -0.211876          -0.218772          -0.187280   \n",
              "12          -0.213426          -0.222190          -0.188864   \n",
              "11          -0.213045          -0.221975          -0.190358   \n",
              "10          -0.214584          -0.227579          -0.192945   \n",
              "4           -0.261278          -0.277510          -0.276095   \n",
              "2           -0.308043          -0.322629          -0.328782   \n",
              "3           -0.342102          -0.358140          -0.366476   \n",
              "1           -0.356260          -0.377391          -0.383739   \n",
              "0           -0.462476          -0.478036          -0.484291   \n",
              "\n",
              "    split4_test_score  mean_test_score  std_test_score  rank_test_score  \n",
              "9           -0.215066        -0.190985        0.015935                1  \n",
              "8           -0.216199        -0.191226        0.016217                2  \n",
              "6           -0.219456        -0.191523        0.017170                3  \n",
              "7           -0.218096        -0.191589        0.016790                4  \n",
              "5           -0.223870        -0.191739        0.018648                5  \n",
              "14          -0.246521        -0.211565        0.020490                6  \n",
              "13          -0.249796        -0.212834        0.021559                7  \n",
              "12          -0.253699        -0.216246        0.021772                8  \n",
              "11          -0.257068        -0.217306        0.022459                9  \n",
              "10          -0.261817        -0.222354        0.022655               10  \n",
              "4           -0.316428        -0.277377        0.021266               11  \n",
              "2           -0.360490        -0.324481        0.020365               12  \n",
              "3           -0.393820        -0.359199        0.020536               13  \n",
              "1           -0.414262        -0.377839        0.021162               14  \n",
              "0           -0.507272        -0.477835        0.017743               15  "
            ],
            "text/html": [
              "\n",
              "  <div id=\"df-739b7a81-f1bc-4753-886b-4f867a083793\">\n",
              "    <div class=\"colab-df-container\">\n",
              "      <div>\n",
              "<style scoped>\n",
              "    .dataframe tbody tr th:only-of-type {\n",
              "        vertical-align: middle;\n",
              "    }\n",
              "\n",
              "    .dataframe tbody tr th {\n",
              "        vertical-align: top;\n",
              "    }\n",
              "\n",
              "    .dataframe thead th {\n",
              "        text-align: right;\n",
              "    }\n",
              "</style>\n",
              "<table border=\"1\" class=\"dataframe\">\n",
              "  <thead>\n",
              "    <tr style=\"text-align: right;\">\n",
              "      <th></th>\n",
              "      <th>mean_fit_time</th>\n",
              "      <th>std_fit_time</th>\n",
              "      <th>mean_score_time</th>\n",
              "      <th>std_score_time</th>\n",
              "      <th>param_model__boosting_type</th>\n",
              "      <th>param_model__n_estimators</th>\n",
              "      <th>params</th>\n",
              "      <th>split0_test_score</th>\n",
              "      <th>split1_test_score</th>\n",
              "      <th>split2_test_score</th>\n",
              "      <th>split3_test_score</th>\n",
              "      <th>split4_test_score</th>\n",
              "      <th>mean_test_score</th>\n",
              "      <th>std_test_score</th>\n",
              "      <th>rank_test_score</th>\n",
              "    </tr>\n",
              "  </thead>\n",
              "  <tbody>\n",
              "    <tr>\n",
              "      <th>9</th>\n",
              "      <td>0.280350</td>\n",
              "      <td>0.006879</td>\n",
              "      <td>0.025383</td>\n",
              "      <td>0.001791</td>\n",
              "      <td>gbdt</td>\n",
              "      <td>190</td>\n",
              "      <td>{'model__boosting_type': 'gbdt', 'model__n_est...</td>\n",
              "      <td>-0.171920</td>\n",
              "      <td>-0.202278</td>\n",
              "      <td>-0.188564</td>\n",
              "      <td>-0.177096</td>\n",
              "      <td>-0.215066</td>\n",
              "      <td>-0.190985</td>\n",
              "      <td>0.015935</td>\n",
              "      <td>1</td>\n",
              "    </tr>\n",
              "    <tr>\n",
              "      <th>8</th>\n",
              "      <td>0.367724</td>\n",
              "      <td>0.077540</td>\n",
              "      <td>0.037537</td>\n",
              "      <td>0.011182</td>\n",
              "      <td>gbdt</td>\n",
              "      <td>170</td>\n",
              "      <td>{'model__boosting_type': 'gbdt', 'model__n_est...</td>\n",
              "      <td>-0.170684</td>\n",
              "      <td>-0.201039</td>\n",
              "      <td>-0.190082</td>\n",
              "      <td>-0.178124</td>\n",
              "      <td>-0.216199</td>\n",
              "      <td>-0.191226</td>\n",
              "      <td>0.016217</td>\n",
              "      <td>2</td>\n",
              "    </tr>\n",
              "    <tr>\n",
              "      <th>6</th>\n",
              "      <td>0.350175</td>\n",
              "      <td>0.089018</td>\n",
              "      <td>0.046256</td>\n",
              "      <td>0.017719</td>\n",
              "      <td>gbdt</td>\n",
              "      <td>130</td>\n",
              "      <td>{'model__boosting_type': 'gbdt', 'model__n_est...</td>\n",
              "      <td>-0.170260</td>\n",
              "      <td>-0.199267</td>\n",
              "      <td>-0.190559</td>\n",
              "      <td>-0.178075</td>\n",
              "      <td>-0.219456</td>\n",
              "      <td>-0.191523</td>\n",
              "      <td>0.017170</td>\n",
              "      <td>3</td>\n",
              "    </tr>\n",
              "    <tr>\n",
              "      <th>7</th>\n",
              "      <td>0.353136</td>\n",
              "      <td>0.065802</td>\n",
              "      <td>0.046346</td>\n",
              "      <td>0.007845</td>\n",
              "      <td>gbdt</td>\n",
              "      <td>150</td>\n",
              "      <td>{'model__boosting_type': 'gbdt', 'model__n_est...</td>\n",
              "      <td>-0.170751</td>\n",
              "      <td>-0.200762</td>\n",
              "      <td>-0.190433</td>\n",
              "      <td>-0.177905</td>\n",
              "      <td>-0.218096</td>\n",
              "      <td>-0.191589</td>\n",
              "      <td>0.016790</td>\n",
              "      <td>4</td>\n",
              "    </tr>\n",
              "    <tr>\n",
              "      <th>5</th>\n",
              "      <td>0.183541</td>\n",
              "      <td>0.012321</td>\n",
              "      <td>0.023545</td>\n",
              "      <td>0.000741</td>\n",
              "      <td>gbdt</td>\n",
              "      <td>100</td>\n",
              "      <td>{'model__boosting_type': 'gbdt', 'model__n_est...</td>\n",
              "      <td>-0.170673</td>\n",
              "      <td>-0.194058</td>\n",
              "      <td>-0.194204</td>\n",
              "      <td>-0.175892</td>\n",
              "      <td>-0.223870</td>\n",
              "      <td>-0.191739</td>\n",
              "      <td>0.018648</td>\n",
              "      <td>5</td>\n",
              "    </tr>\n",
              "    <tr>\n",
              "      <th>14</th>\n",
              "      <td>0.139290</td>\n",
              "      <td>0.024241</td>\n",
              "      <td>0.023344</td>\n",
              "      <td>0.003507</td>\n",
              "      <td>goss</td>\n",
              "      <td>190</td>\n",
              "      <td>{'model__boosting_type': 'goss', 'model__n_est...</td>\n",
              "      <td>-0.195694</td>\n",
              "      <td>-0.210857</td>\n",
              "      <td>-0.217476</td>\n",
              "      <td>-0.187278</td>\n",
              "      <td>-0.246521</td>\n",
              "      <td>-0.211565</td>\n",
              "      <td>0.020490</td>\n",
              "      <td>6</td>\n",
              "    </tr>\n",
              "    <tr>\n",
              "      <th>13</th>\n",
              "      <td>0.145978</td>\n",
              "      <td>0.008631</td>\n",
              "      <td>0.026332</td>\n",
              "      <td>0.002138</td>\n",
              "      <td>goss</td>\n",
              "      <td>170</td>\n",
              "      <td>{'model__boosting_type': 'goss', 'model__n_est...</td>\n",
              "      <td>-0.196445</td>\n",
              "      <td>-0.211876</td>\n",
              "      <td>-0.218772</td>\n",
              "      <td>-0.187280</td>\n",
              "      <td>-0.249796</td>\n",
              "      <td>-0.212834</td>\n",
              "      <td>0.021559</td>\n",
              "      <td>7</td>\n",
              "    </tr>\n",
              "    <tr>\n",
              "      <th>12</th>\n",
              "      <td>0.131937</td>\n",
              "      <td>0.003126</td>\n",
              "      <td>0.024153</td>\n",
              "      <td>0.002342</td>\n",
              "      <td>goss</td>\n",
              "      <td>150</td>\n",
              "      <td>{'model__boosting_type': 'goss', 'model__n_est...</td>\n",
              "      <td>-0.203048</td>\n",
              "      <td>-0.213426</td>\n",
              "      <td>-0.222190</td>\n",
              "      <td>-0.188864</td>\n",
              "      <td>-0.253699</td>\n",
              "      <td>-0.216246</td>\n",
              "      <td>0.021772</td>\n",
              "      <td>8</td>\n",
              "    </tr>\n",
              "    <tr>\n",
              "      <th>11</th>\n",
              "      <td>0.132309</td>\n",
              "      <td>0.007051</td>\n",
              "      <td>0.025727</td>\n",
              "      <td>0.002192</td>\n",
              "      <td>goss</td>\n",
              "      <td>130</td>\n",
              "      <td>{'model__boosting_type': 'goss', 'model__n_est...</td>\n",
              "      <td>-0.204084</td>\n",
              "      <td>-0.213045</td>\n",
              "      <td>-0.221975</td>\n",
              "      <td>-0.190358</td>\n",
              "      <td>-0.257068</td>\n",
              "      <td>-0.217306</td>\n",
              "      <td>0.022459</td>\n",
              "      <td>9</td>\n",
              "    </tr>\n",
              "    <tr>\n",
              "      <th>10</th>\n",
              "      <td>0.117570</td>\n",
              "      <td>0.006967</td>\n",
              "      <td>0.023563</td>\n",
              "      <td>0.001172</td>\n",
              "      <td>goss</td>\n",
              "      <td>100</td>\n",
              "      <td>{'model__boosting_type': 'goss', 'model__n_est...</td>\n",
              "      <td>-0.214845</td>\n",
              "      <td>-0.214584</td>\n",
              "      <td>-0.227579</td>\n",
              "      <td>-0.192945</td>\n",
              "      <td>-0.261817</td>\n",
              "      <td>-0.222354</td>\n",
              "      <td>0.022655</td>\n",
              "      <td>10</td>\n",
              "    </tr>\n",
              "    <tr>\n",
              "      <th>4</th>\n",
              "      <td>0.374020</td>\n",
              "      <td>0.019427</td>\n",
              "      <td>0.025149</td>\n",
              "      <td>0.000666</td>\n",
              "      <td>dart</td>\n",
              "      <td>190</td>\n",
              "      <td>{'model__boosting_type': 'dart', 'model__n_est...</td>\n",
              "      <td>-0.255576</td>\n",
              "      <td>-0.261278</td>\n",
              "      <td>-0.277510</td>\n",
              "      <td>-0.276095</td>\n",
              "      <td>-0.316428</td>\n",
              "      <td>-0.277377</td>\n",
              "      <td>0.021266</td>\n",
              "      <td>11</td>\n",
              "    </tr>\n",
              "    <tr>\n",
              "      <th>2</th>\n",
              "      <td>0.548520</td>\n",
              "      <td>0.073825</td>\n",
              "      <td>0.048771</td>\n",
              "      <td>0.002283</td>\n",
              "      <td>dart</td>\n",
              "      <td>150</td>\n",
              "      <td>{'model__boosting_type': 'dart', 'model__n_est...</td>\n",
              "      <td>-0.302460</td>\n",
              "      <td>-0.308043</td>\n",
              "      <td>-0.322629</td>\n",
              "      <td>-0.328782</td>\n",
              "      <td>-0.360490</td>\n",
              "      <td>-0.324481</td>\n",
              "      <td>0.020365</td>\n",
              "      <td>12</td>\n",
              "    </tr>\n",
              "    <tr>\n",
              "      <th>3</th>\n",
              "      <td>0.593233</td>\n",
              "      <td>0.100279</td>\n",
              "      <td>0.039231</td>\n",
              "      <td>0.012410</td>\n",
              "      <td>dart</td>\n",
              "      <td>170</td>\n",
              "      <td>{'model__boosting_type': 'dart', 'model__n_est...</td>\n",
              "      <td>-0.335459</td>\n",
              "      <td>-0.342102</td>\n",
              "      <td>-0.358140</td>\n",
              "      <td>-0.366476</td>\n",
              "      <td>-0.393820</td>\n",
              "      <td>-0.359199</td>\n",
              "      <td>0.020536</td>\n",
              "      <td>13</td>\n",
              "    </tr>\n",
              "    <tr>\n",
              "      <th>1</th>\n",
              "      <td>0.299269</td>\n",
              "      <td>0.064556</td>\n",
              "      <td>0.026468</td>\n",
              "      <td>0.005385</td>\n",
              "      <td>dart</td>\n",
              "      <td>130</td>\n",
              "      <td>{'model__boosting_type': 'dart', 'model__n_est...</td>\n",
              "      <td>-0.357542</td>\n",
              "      <td>-0.356260</td>\n",
              "      <td>-0.377391</td>\n",
              "      <td>-0.383739</td>\n",
              "      <td>-0.414262</td>\n",
              "      <td>-0.377839</td>\n",
              "      <td>0.021162</td>\n",
              "      <td>14</td>\n",
              "    </tr>\n",
              "    <tr>\n",
              "      <th>0</th>\n",
              "      <td>0.210989</td>\n",
              "      <td>0.016123</td>\n",
              "      <td>0.026343</td>\n",
              "      <td>0.004340</td>\n",
              "      <td>dart</td>\n",
              "      <td>100</td>\n",
              "      <td>{'model__boosting_type': 'dart', 'model__n_est...</td>\n",
              "      <td>-0.457101</td>\n",
              "      <td>-0.462476</td>\n",
              "      <td>-0.478036</td>\n",
              "      <td>-0.484291</td>\n",
              "      <td>-0.507272</td>\n",
              "      <td>-0.477835</td>\n",
              "      <td>0.017743</td>\n",
              "      <td>15</td>\n",
              "    </tr>\n",
              "  </tbody>\n",
              "</table>\n",
              "</div>\n",
              "      <button class=\"colab-df-convert\" onclick=\"convertToInteractive('df-739b7a81-f1bc-4753-886b-4f867a083793')\"\n",
              "              title=\"Convert this dataframe to an interactive table.\"\n",
              "              style=\"display:none;\">\n",
              "        \n",
              "  <svg xmlns=\"http://www.w3.org/2000/svg\" height=\"24px\"viewBox=\"0 0 24 24\"\n",
              "       width=\"24px\">\n",
              "    <path d=\"M0 0h24v24H0V0z\" fill=\"none\"/>\n",
              "    <path d=\"M18.56 5.44l.94 2.06.94-2.06 2.06-.94-2.06-.94-.94-2.06-.94 2.06-2.06.94zm-11 1L8.5 8.5l.94-2.06 2.06-.94-2.06-.94L8.5 2.5l-.94 2.06-2.06.94zm10 10l.94 2.06.94-2.06 2.06-.94-2.06-.94-.94-2.06-.94 2.06-2.06.94z\"/><path d=\"M17.41 7.96l-1.37-1.37c-.4-.4-.92-.59-1.43-.59-.52 0-1.04.2-1.43.59L10.3 9.45l-7.72 7.72c-.78.78-.78 2.05 0 2.83L4 21.41c.39.39.9.59 1.41.59.51 0 1.02-.2 1.41-.59l7.78-7.78 2.81-2.81c.8-.78.8-2.07 0-2.86zM5.41 20L4 18.59l7.72-7.72 1.47 1.35L5.41 20z\"/>\n",
              "  </svg>\n",
              "      </button>\n",
              "      \n",
              "  <style>\n",
              "    .colab-df-container {\n",
              "      display:flex;\n",
              "      flex-wrap:wrap;\n",
              "      gap: 12px;\n",
              "    }\n",
              "\n",
              "    .colab-df-convert {\n",
              "      background-color: #E8F0FE;\n",
              "      border: none;\n",
              "      border-radius: 50%;\n",
              "      cursor: pointer;\n",
              "      display: none;\n",
              "      fill: #1967D2;\n",
              "      height: 32px;\n",
              "      padding: 0 0 0 0;\n",
              "      width: 32px;\n",
              "    }\n",
              "\n",
              "    .colab-df-convert:hover {\n",
              "      background-color: #E2EBFA;\n",
              "      box-shadow: 0px 1px 2px rgba(60, 64, 67, 0.3), 0px 1px 3px 1px rgba(60, 64, 67, 0.15);\n",
              "      fill: #174EA6;\n",
              "    }\n",
              "\n",
              "    [theme=dark] .colab-df-convert {\n",
              "      background-color: #3B4455;\n",
              "      fill: #D2E3FC;\n",
              "    }\n",
              "\n",
              "    [theme=dark] .colab-df-convert:hover {\n",
              "      background-color: #434B5C;\n",
              "      box-shadow: 0px 1px 3px 1px rgba(0, 0, 0, 0.15);\n",
              "      filter: drop-shadow(0px 1px 2px rgba(0, 0, 0, 0.3));\n",
              "      fill: #FFFFFF;\n",
              "    }\n",
              "  </style>\n",
              "\n",
              "      <script>\n",
              "        const buttonEl =\n",
              "          document.querySelector('#df-739b7a81-f1bc-4753-886b-4f867a083793 button.colab-df-convert');\n",
              "        buttonEl.style.display =\n",
              "          google.colab.kernel.accessAllowed ? 'block' : 'none';\n",
              "\n",
              "        async function convertToInteractive(key) {\n",
              "          const element = document.querySelector('#df-739b7a81-f1bc-4753-886b-4f867a083793');\n",
              "          const dataTable =\n",
              "            await google.colab.kernel.invokeFunction('convertToInteractive',\n",
              "                                                     [key], {});\n",
              "          if (!dataTable) return;\n",
              "\n",
              "          const docLinkHtml = 'Like what you see? Visit the ' +\n",
              "            '<a target=\"_blank\" href=https://colab.research.google.com/notebooks/data_table.ipynb>data table notebook</a>'\n",
              "            + ' to learn more about interactive tables.';\n",
              "          element.innerHTML = '';\n",
              "          dataTable['output_type'] = 'display_data';\n",
              "          await google.colab.output.renderOutput(dataTable, element);\n",
              "          const docLink = document.createElement('div');\n",
              "          docLink.innerHTML = docLinkHtml;\n",
              "          element.appendChild(docLink);\n",
              "        }\n",
              "      </script>\n",
              "    </div>\n",
              "  </div>\n",
              "  "
            ]
          },
          "metadata": {},
          "execution_count": 32
        }
      ]
    },
    {
      "cell_type": "code",
      "source": [],
      "metadata": {
        "colab": {
          "base_uri": "https://localhost:8080/"
        },
        "id": "MWFVJvSVvs6Y",
        "outputId": "883d17d6-89d4-4a99-aab8-8d6b4dd9849e"
      },
      "execution_count": null,
      "outputs": [
        {
          "output_type": "execute_result",
          "data": {
            "text/plain": [
              "{'model__boosting_type': 'gbdt', 'model__n_estimators': 190}"
            ]
          },
          "metadata": {},
          "execution_count": 23
        }
      ]
    },
    {
      "cell_type": "code",
      "source": [
        "gs.best_score_\n"
      ],
      "metadata": {
        "colab": {
          "base_uri": "https://localhost:8080/"
        },
        "id": "IZg0oNnBvwcj",
        "outputId": "e3fcf2d2-9cae-43e0-d25c-6c05f1c08ba1"
      },
      "execution_count": null,
      "outputs": [
        {
          "output_type": "execute_result",
          "data": {
            "text/plain": [
              "-0.190984763009071"
            ]
          },
          "metadata": {},
          "execution_count": 24
        }
      ]
    },
    {
      "cell_type": "code",
      "source": [
        "gs.best_estimator_\n"
      ],
      "metadata": {
        "colab": {
          "base_uri": "https://localhost:8080/",
          "height": 194
        },
        "id": "xCo6eM-2vywv",
        "outputId": "843aecfe-c7fa-4e89-f308-00f0a9f4c729"
      },
      "execution_count": null,
      "outputs": [
        {
          "output_type": "execute_result",
          "data": {
            "text/plain": [
              "Pipeline(steps=[('trf',\n",
              "                 ColumnTransformer(remainder='passthrough',\n",
              "                                   transformers=[('ohe',\n",
              "                                                  OneHotEncoder(handle_unknown='ignore',\n",
              "                                                                sparse=False),\n",
              "                                                  ['Seat No.', 'PH-121',\n",
              "                                                   'HS-101', 'CY-105',\n",
              "                                                   'HS-105/12', 'MT-111',\n",
              "                                                   'CS-105', 'CS-106', 'EL-102',\n",
              "                                                   'EE-119', 'ME-107', 'CS-107',\n",
              "                                                   'HS-205/20', 'MT-222',\n",
              "                                                   'EE-222', 'MT-224', 'CS-210',\n",
              "                                                   'CS-211', 'CS-203', 'CS-214',\n",
              "                                                   'EE-217', 'CS-212', 'CS-215',\n",
              "                                                   'MT-331', 'EF-303', 'HS-304',\n",
              "                                                   'CS-301', 'CS-302', 'TC-383',\n",
              "                                                   'MT-442', ...])])),\n",
              "                ('model', LGBMRegressor(n_estimators=190, random_state=0))])"
            ],
            "text/html": [
              "<style>#sk-container-id-2 {color: black;background-color: white;}#sk-container-id-2 pre{padding: 0;}#sk-container-id-2 div.sk-toggleable {background-color: white;}#sk-container-id-2 label.sk-toggleable__label {cursor: pointer;display: block;width: 100%;margin-bottom: 0;padding: 0.3em;box-sizing: border-box;text-align: center;}#sk-container-id-2 label.sk-toggleable__label-arrow:before {content: \"▸\";float: left;margin-right: 0.25em;color: #696969;}#sk-container-id-2 label.sk-toggleable__label-arrow:hover:before {color: black;}#sk-container-id-2 div.sk-estimator:hover label.sk-toggleable__label-arrow:before {color: black;}#sk-container-id-2 div.sk-toggleable__content {max-height: 0;max-width: 0;overflow: hidden;text-align: left;background-color: #f0f8ff;}#sk-container-id-2 div.sk-toggleable__content pre {margin: 0.2em;color: black;border-radius: 0.25em;background-color: #f0f8ff;}#sk-container-id-2 input.sk-toggleable__control:checked~div.sk-toggleable__content {max-height: 200px;max-width: 100%;overflow: auto;}#sk-container-id-2 input.sk-toggleable__control:checked~label.sk-toggleable__label-arrow:before {content: \"▾\";}#sk-container-id-2 div.sk-estimator input.sk-toggleable__control:checked~label.sk-toggleable__label {background-color: #d4ebff;}#sk-container-id-2 div.sk-label input.sk-toggleable__control:checked~label.sk-toggleable__label {background-color: #d4ebff;}#sk-container-id-2 input.sk-hidden--visually {border: 0;clip: rect(1px 1px 1px 1px);clip: rect(1px, 1px, 1px, 1px);height: 1px;margin: -1px;overflow: hidden;padding: 0;position: absolute;width: 1px;}#sk-container-id-2 div.sk-estimator {font-family: monospace;background-color: #f0f8ff;border: 1px dotted black;border-radius: 0.25em;box-sizing: border-box;margin-bottom: 0.5em;}#sk-container-id-2 div.sk-estimator:hover {background-color: #d4ebff;}#sk-container-id-2 div.sk-parallel-item::after {content: \"\";width: 100%;border-bottom: 1px solid gray;flex-grow: 1;}#sk-container-id-2 div.sk-label:hover label.sk-toggleable__label {background-color: #d4ebff;}#sk-container-id-2 div.sk-serial::before {content: \"\";position: absolute;border-left: 1px solid gray;box-sizing: border-box;top: 0;bottom: 0;left: 50%;z-index: 0;}#sk-container-id-2 div.sk-serial {display: flex;flex-direction: column;align-items: center;background-color: white;padding-right: 0.2em;padding-left: 0.2em;position: relative;}#sk-container-id-2 div.sk-item {position: relative;z-index: 1;}#sk-container-id-2 div.sk-parallel {display: flex;align-items: stretch;justify-content: center;background-color: white;position: relative;}#sk-container-id-2 div.sk-item::before, #sk-container-id-2 div.sk-parallel-item::before {content: \"\";position: absolute;border-left: 1px solid gray;box-sizing: border-box;top: 0;bottom: 0;left: 50%;z-index: -1;}#sk-container-id-2 div.sk-parallel-item {display: flex;flex-direction: column;z-index: 1;position: relative;background-color: white;}#sk-container-id-2 div.sk-parallel-item:first-child::after {align-self: flex-end;width: 50%;}#sk-container-id-2 div.sk-parallel-item:last-child::after {align-self: flex-start;width: 50%;}#sk-container-id-2 div.sk-parallel-item:only-child::after {width: 0;}#sk-container-id-2 div.sk-dashed-wrapped {border: 1px dashed gray;margin: 0 0.4em 0.5em 0.4em;box-sizing: border-box;padding-bottom: 0.4em;background-color: white;}#sk-container-id-2 div.sk-label label {font-family: monospace;font-weight: bold;display: inline-block;line-height: 1.2em;}#sk-container-id-2 div.sk-label-container {text-align: center;}#sk-container-id-2 div.sk-container {/* jupyter's `normalize.less` sets `[hidden] { display: none; }` but bootstrap.min.css set `[hidden] { display: none !important; }` so we also need the `!important` here to be able to override the default hidden behavior on the sphinx rendered scikit-learn.org. See: https://github.com/scikit-learn/scikit-learn/issues/21755 */display: inline-block !important;position: relative;}#sk-container-id-2 div.sk-text-repr-fallback {display: none;}</style><div id=\"sk-container-id-2\" class=\"sk-top-container\"><div class=\"sk-text-repr-fallback\"><pre>Pipeline(steps=[(&#x27;trf&#x27;,\n",
              "                 ColumnTransformer(remainder=&#x27;passthrough&#x27;,\n",
              "                                   transformers=[(&#x27;ohe&#x27;,\n",
              "                                                  OneHotEncoder(handle_unknown=&#x27;ignore&#x27;,\n",
              "                                                                sparse=False),\n",
              "                                                  [&#x27;Seat No.&#x27;, &#x27;PH-121&#x27;,\n",
              "                                                   &#x27;HS-101&#x27;, &#x27;CY-105&#x27;,\n",
              "                                                   &#x27;HS-105/12&#x27;, &#x27;MT-111&#x27;,\n",
              "                                                   &#x27;CS-105&#x27;, &#x27;CS-106&#x27;, &#x27;EL-102&#x27;,\n",
              "                                                   &#x27;EE-119&#x27;, &#x27;ME-107&#x27;, &#x27;CS-107&#x27;,\n",
              "                                                   &#x27;HS-205/20&#x27;, &#x27;MT-222&#x27;,\n",
              "                                                   &#x27;EE-222&#x27;, &#x27;MT-224&#x27;, &#x27;CS-210&#x27;,\n",
              "                                                   &#x27;CS-211&#x27;, &#x27;CS-203&#x27;, &#x27;CS-214&#x27;,\n",
              "                                                   &#x27;EE-217&#x27;, &#x27;CS-212&#x27;, &#x27;CS-215&#x27;,\n",
              "                                                   &#x27;MT-331&#x27;, &#x27;EF-303&#x27;, &#x27;HS-304&#x27;,\n",
              "                                                   &#x27;CS-301&#x27;, &#x27;CS-302&#x27;, &#x27;TC-383&#x27;,\n",
              "                                                   &#x27;MT-442&#x27;, ...])])),\n",
              "                (&#x27;model&#x27;, LGBMRegressor(n_estimators=190, random_state=0))])</pre><b>In a Jupyter environment, please rerun this cell to show the HTML representation or trust the notebook. <br />On GitHub, the HTML representation is unable to render, please try loading this page with nbviewer.org.</b></div><div class=\"sk-container\" hidden><div class=\"sk-item sk-dashed-wrapped\"><div class=\"sk-label-container\"><div class=\"sk-label sk-toggleable\"><input class=\"sk-toggleable__control sk-hidden--visually\" id=\"sk-estimator-id-9\" type=\"checkbox\" ><label for=\"sk-estimator-id-9\" class=\"sk-toggleable__label sk-toggleable__label-arrow\">Pipeline</label><div class=\"sk-toggleable__content\"><pre>Pipeline(steps=[(&#x27;trf&#x27;,\n",
              "                 ColumnTransformer(remainder=&#x27;passthrough&#x27;,\n",
              "                                   transformers=[(&#x27;ohe&#x27;,\n",
              "                                                  OneHotEncoder(handle_unknown=&#x27;ignore&#x27;,\n",
              "                                                                sparse=False),\n",
              "                                                  [&#x27;Seat No.&#x27;, &#x27;PH-121&#x27;,\n",
              "                                                   &#x27;HS-101&#x27;, &#x27;CY-105&#x27;,\n",
              "                                                   &#x27;HS-105/12&#x27;, &#x27;MT-111&#x27;,\n",
              "                                                   &#x27;CS-105&#x27;, &#x27;CS-106&#x27;, &#x27;EL-102&#x27;,\n",
              "                                                   &#x27;EE-119&#x27;, &#x27;ME-107&#x27;, &#x27;CS-107&#x27;,\n",
              "                                                   &#x27;HS-205/20&#x27;, &#x27;MT-222&#x27;,\n",
              "                                                   &#x27;EE-222&#x27;, &#x27;MT-224&#x27;, &#x27;CS-210&#x27;,\n",
              "                                                   &#x27;CS-211&#x27;, &#x27;CS-203&#x27;, &#x27;CS-214&#x27;,\n",
              "                                                   &#x27;EE-217&#x27;, &#x27;CS-212&#x27;, &#x27;CS-215&#x27;,\n",
              "                                                   &#x27;MT-331&#x27;, &#x27;EF-303&#x27;, &#x27;HS-304&#x27;,\n",
              "                                                   &#x27;CS-301&#x27;, &#x27;CS-302&#x27;, &#x27;TC-383&#x27;,\n",
              "                                                   &#x27;MT-442&#x27;, ...])])),\n",
              "                (&#x27;model&#x27;, LGBMRegressor(n_estimators=190, random_state=0))])</pre></div></div></div><div class=\"sk-serial\"><div class=\"sk-item sk-dashed-wrapped\"><div class=\"sk-label-container\"><div class=\"sk-label sk-toggleable\"><input class=\"sk-toggleable__control sk-hidden--visually\" id=\"sk-estimator-id-10\" type=\"checkbox\" ><label for=\"sk-estimator-id-10\" class=\"sk-toggleable__label sk-toggleable__label-arrow\">trf: ColumnTransformer</label><div class=\"sk-toggleable__content\"><pre>ColumnTransformer(remainder=&#x27;passthrough&#x27;,\n",
              "                  transformers=[(&#x27;ohe&#x27;,\n",
              "                                 OneHotEncoder(handle_unknown=&#x27;ignore&#x27;,\n",
              "                                               sparse=False),\n",
              "                                 [&#x27;Seat No.&#x27;, &#x27;PH-121&#x27;, &#x27;HS-101&#x27;, &#x27;CY-105&#x27;,\n",
              "                                  &#x27;HS-105/12&#x27;, &#x27;MT-111&#x27;, &#x27;CS-105&#x27;, &#x27;CS-106&#x27;,\n",
              "                                  &#x27;EL-102&#x27;, &#x27;EE-119&#x27;, &#x27;ME-107&#x27;, &#x27;CS-107&#x27;,\n",
              "                                  &#x27;HS-205/20&#x27;, &#x27;MT-222&#x27;, &#x27;EE-222&#x27;, &#x27;MT-224&#x27;,\n",
              "                                  &#x27;CS-210&#x27;, &#x27;CS-211&#x27;, &#x27;CS-203&#x27;, &#x27;CS-214&#x27;,\n",
              "                                  &#x27;EE-217&#x27;, &#x27;CS-212&#x27;, &#x27;CS-215&#x27;, &#x27;MT-331&#x27;,\n",
              "                                  &#x27;EF-303&#x27;, &#x27;HS-304&#x27;, &#x27;CS-301&#x27;, &#x27;CS-302&#x27;,\n",
              "                                  &#x27;TC-383&#x27;, &#x27;MT-442&#x27;, ...])])</pre></div></div></div><div class=\"sk-parallel\"><div class=\"sk-parallel-item\"><div class=\"sk-item\"><div class=\"sk-label-container\"><div class=\"sk-label sk-toggleable\"><input class=\"sk-toggleable__control sk-hidden--visually\" id=\"sk-estimator-id-11\" type=\"checkbox\" ><label for=\"sk-estimator-id-11\" class=\"sk-toggleable__label sk-toggleable__label-arrow\">ohe</label><div class=\"sk-toggleable__content\"><pre>[&#x27;Seat No.&#x27;, &#x27;PH-121&#x27;, &#x27;HS-101&#x27;, &#x27;CY-105&#x27;, &#x27;HS-105/12&#x27;, &#x27;MT-111&#x27;, &#x27;CS-105&#x27;, &#x27;CS-106&#x27;, &#x27;EL-102&#x27;, &#x27;EE-119&#x27;, &#x27;ME-107&#x27;, &#x27;CS-107&#x27;, &#x27;HS-205/20&#x27;, &#x27;MT-222&#x27;, &#x27;EE-222&#x27;, &#x27;MT-224&#x27;, &#x27;CS-210&#x27;, &#x27;CS-211&#x27;, &#x27;CS-203&#x27;, &#x27;CS-214&#x27;, &#x27;EE-217&#x27;, &#x27;CS-212&#x27;, &#x27;CS-215&#x27;, &#x27;MT-331&#x27;, &#x27;EF-303&#x27;, &#x27;HS-304&#x27;, &#x27;CS-301&#x27;, &#x27;CS-302&#x27;, &#x27;TC-383&#x27;, &#x27;MT-442&#x27;, &#x27;EL-332&#x27;, &#x27;CS-318&#x27;, &#x27;CS-306&#x27;, &#x27;CS-312&#x27;, &#x27;CS-317&#x27;, &#x27;CS-403&#x27;, &#x27;CS-421&#x27;, &#x27;CS-406&#x27;, &#x27;CS-414&#x27;, &#x27;CS-419&#x27;, &#x27;CS-423&#x27;, &#x27;CS-412&#x27;]</pre></div></div></div><div class=\"sk-serial\"><div class=\"sk-item\"><div class=\"sk-estimator sk-toggleable\"><input class=\"sk-toggleable__control sk-hidden--visually\" id=\"sk-estimator-id-12\" type=\"checkbox\" ><label for=\"sk-estimator-id-12\" class=\"sk-toggleable__label sk-toggleable__label-arrow\">OneHotEncoder</label><div class=\"sk-toggleable__content\"><pre>OneHotEncoder(handle_unknown=&#x27;ignore&#x27;, sparse=False)</pre></div></div></div></div></div></div><div class=\"sk-parallel-item\"><div class=\"sk-item\"><div class=\"sk-label-container\"><div class=\"sk-label sk-toggleable\"><input class=\"sk-toggleable__control sk-hidden--visually\" id=\"sk-estimator-id-13\" type=\"checkbox\" ><label for=\"sk-estimator-id-13\" class=\"sk-toggleable__label sk-toggleable__label-arrow\">remainder</label><div class=\"sk-toggleable__content\"><pre>[]</pre></div></div></div><div class=\"sk-serial\"><div class=\"sk-item\"><div class=\"sk-estimator sk-toggleable\"><input class=\"sk-toggleable__control sk-hidden--visually\" id=\"sk-estimator-id-14\" type=\"checkbox\" ><label for=\"sk-estimator-id-14\" class=\"sk-toggleable__label sk-toggleable__label-arrow\">passthrough</label><div class=\"sk-toggleable__content\"><pre>passthrough</pre></div></div></div></div></div></div></div></div><div class=\"sk-item\"><div class=\"sk-estimator sk-toggleable\"><input class=\"sk-toggleable__control sk-hidden--visually\" id=\"sk-estimator-id-15\" type=\"checkbox\" ><label for=\"sk-estimator-id-15\" class=\"sk-toggleable__label sk-toggleable__label-arrow\">LGBMRegressor</label><div class=\"sk-toggleable__content\"><pre>LGBMRegressor(n_estimators=190, random_state=0)</pre></div></div></div></div></div></div></div>"
            ]
          },
          "metadata": {},
          "execution_count": 25
        }
      ]
    },
    {
      "cell_type": "code",
      "source": [
        "joblib.dump(gs.best_estimator_, 'model.joblib')\n"
      ],
      "metadata": {
        "colab": {
          "base_uri": "https://localhost:8080/"
        },
        "id": "Q7kq4LrCv1a5",
        "outputId": "021316fd-7219-4514-c388-93915cd1ef95"
      },
      "execution_count": null,
      "outputs": [
        {
          "output_type": "execute_result",
          "data": {
            "text/plain": [
              "['model.joblib']"
            ]
          },
          "metadata": {},
          "execution_count": 26
        }
      ]
    },
    {
      "cell_type": "markdown",
      "source": [
        "importing the model:\n",
        "\n"
      ],
      "metadata": {
        "id": "eNc7yrjZv5be"
      }
    },
    {
      "cell_type": "code",
      "source": [
        "mdl = joblib.load('model.joblib')\n"
      ],
      "metadata": {
        "id": "PIzJPCzMv4LH"
      },
      "execution_count": null,
      "outputs": []
    },
    {
      "cell_type": "markdown",
      "source": [
        "Making predictions on a new data point NOT seen by the model\n",
        "\n"
      ],
      "metadata": {
        "id": "j0lKmTcywCuv"
      }
    },
    {
      "cell_type": "code",
      "source": [
        "q = pd..dataframe([['CGPA',50,87]], columns=x.columns)"
      ],
      "metadata": {
        "id": "XLAM2I-M35cr"
      },
      "execution_count": null,
      "outputs": []
    },
    {
      "cell_type": "code",
      "source": [
        "mdl.predict(q)\n"
      ],
      "metadata": {
        "id": "rSd1-snv4H-T"
      },
      "execution_count": null,
      "outputs": []
    }
  ]
}